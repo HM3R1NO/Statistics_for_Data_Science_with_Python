{
  "metadata": {
    "kernelspec": {
      "name": "python",
      "display_name": "Python (Pyodide)",
      "language": "python"
    },
    "language_info": {
      "codemirror_mode": {
        "name": "python",
        "version": 3
      },
      "file_extension": ".py",
      "mimetype": "text/x-python",
      "name": "python",
      "nbconvert_exporter": "python",
      "pygments_lexer": "ipython3",
      "version": "3.8"
    }
  },
  "nbformat_minor": 4,
  "nbformat": 4,
  "cells": [
    {
      "cell_type": "markdown",
      "source": "<p style=\"text-align:center\">\n    <a href=\"https://skills.network/?utm_medium=Exinfluencer&utm_source=Exinfluencer&utm_content=000026UJ&utm_term=10006555&utm_id=NA-SkillsNetwork-Channel-SkillsNetworkCoursesIBMDeveloperSkillsNetworkST0151ENSkillsNetwork20531532-2022-01-01\" target=\"_blank\">\n    <img src=\"https://cf-courses-data.s3.us.cloud-object-storage.appdomain.cloud/assets/logos/SN_web_lightmode.png\" width=\"200\" alt=\"Skills Network Logo\">\n    </a>\n</p>\n",
      "metadata": {}
    },
    {
      "cell_type": "markdown",
      "source": "# Descriptive Statistics\n",
      "metadata": {}
    },
    {
      "cell_type": "markdown",
      "source": "Estimated time needed: **30** minutes\n",
      "metadata": {}
    },
    {
      "cell_type": "markdown",
      "source": "In this lab, you'll go over some hands-on exercises using Python.\n",
      "metadata": {}
    },
    {
      "cell_type": "markdown",
      "source": "## Objectives\n",
      "metadata": {}
    },
    {
      "cell_type": "markdown",
      "source": "*   Import Libraries\n*   Read in Data\n*   Lab exercises and questions\n",
      "metadata": {}
    },
    {
      "cell_type": "markdown",
      "source": "***\n",
      "metadata": {}
    },
    {
      "cell_type": "markdown",
      "source": "## Import Libraries\n",
      "metadata": {}
    },
    {
      "cell_type": "markdown",
      "source": "All Libraries required for this lab are listed below. The libraries pre-installed on Skills Network Labs are commented. If you run this notebook in a different environment, e.g. your desktop, you may need to uncomment and install certain libraries.\n",
      "metadata": {}
    },
    {
      "cell_type": "markdown",
      "source": "Import the libraries we need for the lab\n",
      "metadata": {}
    },
    {
      "cell_type": "code",
      "source": "import piplite\nawait piplite.install(['numpy'],['pandas'])",
      "metadata": {
        "trusted": true
      },
      "outputs": [],
      "execution_count": 1
    },
    {
      "cell_type": "code",
      "source": "import numpy as np\nimport pandas as pd\nimport matplotlib.pyplot as pyplot",
      "metadata": {
        "trusted": true
      },
      "outputs": [
        {
          "name": "stderr",
          "text": "<ipython-input-2-14075d28a1af>:2: DeprecationWarning: \nPyarrow will become a required dependency of pandas in the next major release of pandas (pandas 3.0),\n(to allow more performant data types, such as the Arrow string type, and better interoperability with other libraries)\nbut was not found to be installed on your system.\nIf this would cause problems for you,\nplease provide us feedback at https://github.com/pandas-dev/pandas/issues/54466\n        \n  import pandas as pd\n",
          "output_type": "stream"
        }
      ],
      "execution_count": 2
    },
    {
      "cell_type": "code",
      "source": "from js import fetch\nimport io\n\nURL = 'https://cf-courses-data.s3.us.cloud-object-storage.appdomain.cloud/IBMDeveloperSkillsNetwork-ST0151EN-SkillsNetwork/labs/teachingratings.csv'\nresp = await fetch(URL)\nratings_url = io.BytesIO((await resp.arrayBuffer()).to_py())",
      "metadata": {
        "trusted": true
      },
      "outputs": [],
      "execution_count": 3
    },
    {
      "cell_type": "markdown",
      "source": "Read in the csv file from the URL using the request library\n",
      "metadata": {}
    },
    {
      "cell_type": "code",
      "source": "ratings_df=pd.read_csv(ratings_url)\n",
      "metadata": {
        "trusted": true
      },
      "outputs": [],
      "execution_count": 4
    },
    {
      "cell_type": "markdown",
      "source": "## Data Description\n\n| Variable    | Description                                                                                                                                          |\n| ----------- | ---------------------------------------------------------------------------------------------------------------------------------------------------- |\n| minority    | Does the instructor belong to a minority (non-Caucasian) group?                                                                                      |\n| age         | The professor's age                                                                                                                                  |\n| gender      | Indicating whether the instructor was male or female.                                                                                                |\n| credits     | Is the course a single-credit elective?                                                                                                              |\n| beauty      | Rating of the instructor's physical appearance by a panel of six students averaged across the six panelists and standardized to have a mean of zero. |\n| eval        | Course overall teaching evaluation score, on a scale of 1 (very unsatisfactory) to 5 (excellent).                                                    |\n| division    | Is the course an upper or lower division course?                                                                                                     |\n| native      | Is the instructor a native English speaker?                                                                                                          |\n| tenure      | Is the instructor on a tenure track?                                                                                                                 |\n| students    | Number of students that participated in the evaluation.                                                                                              |\n| allstudents | Number of students enrolled in the course.                                                                                                           |\n| prof        | Indicating instructor identifier.                                                                                                                    |\n",
      "metadata": {}
    },
    {
      "cell_type": "markdown",
      "source": "## Display information about the dataset\n\n1.  Structure of the dataframe\n2.  Describe the dataset\n3.  Number of rows and columns\n",
      "metadata": {}
    },
    {
      "cell_type": "markdown",
      "source": "print out the first five rows of the data\n",
      "metadata": {}
    },
    {
      "cell_type": "code",
      "source": "ratings_df.head()",
      "metadata": {
        "trusted": true
      },
      "outputs": [
        {
          "execution_count": 5,
          "output_type": "execute_result",
          "data": {
            "text/plain": "  minority  age  gender credits    beauty  eval division native tenure  \\\n0      yes   36  female    more  0.289916   4.3    upper    yes    yes   \n1      yes   36  female    more  0.289916   3.7    upper    yes    yes   \n2      yes   36  female    more  0.289916   3.6    upper    yes    yes   \n3      yes   36  female    more  0.289916   4.4    upper    yes    yes   \n4       no   59    male    more -0.737732   4.5    upper    yes    yes   \n\n   students  allstudents  prof  PrimaryLast  vismin  female  single_credit  \\\n0        24           43     1            0       1       1              0   \n1        86          125     1            0       1       1              0   \n2        76          125     1            0       1       1              0   \n3        77          123     1            1       1       1              0   \n4        17           20     2            0       0       0              0   \n\n   upper_division  English_speaker  tenured_prof  \n0               1                1             1  \n1               1                1             1  \n2               1                1             1  \n3               1                1             1  \n4               1                1             1  ",
            "text/html": "<div>\n<style scoped>\n    .dataframe tbody tr th:only-of-type {\n        vertical-align: middle;\n    }\n\n    .dataframe tbody tr th {\n        vertical-align: top;\n    }\n\n    .dataframe thead th {\n        text-align: right;\n    }\n</style>\n<table border=\"1\" class=\"dataframe\">\n  <thead>\n    <tr style=\"text-align: right;\">\n      <th></th>\n      <th>minority</th>\n      <th>age</th>\n      <th>gender</th>\n      <th>credits</th>\n      <th>beauty</th>\n      <th>eval</th>\n      <th>division</th>\n      <th>native</th>\n      <th>tenure</th>\n      <th>students</th>\n      <th>allstudents</th>\n      <th>prof</th>\n      <th>PrimaryLast</th>\n      <th>vismin</th>\n      <th>female</th>\n      <th>single_credit</th>\n      <th>upper_division</th>\n      <th>English_speaker</th>\n      <th>tenured_prof</th>\n    </tr>\n  </thead>\n  <tbody>\n    <tr>\n      <th>0</th>\n      <td>yes</td>\n      <td>36</td>\n      <td>female</td>\n      <td>more</td>\n      <td>0.289916</td>\n      <td>4.3</td>\n      <td>upper</td>\n      <td>yes</td>\n      <td>yes</td>\n      <td>24</td>\n      <td>43</td>\n      <td>1</td>\n      <td>0</td>\n      <td>1</td>\n      <td>1</td>\n      <td>0</td>\n      <td>1</td>\n      <td>1</td>\n      <td>1</td>\n    </tr>\n    <tr>\n      <th>1</th>\n      <td>yes</td>\n      <td>36</td>\n      <td>female</td>\n      <td>more</td>\n      <td>0.289916</td>\n      <td>3.7</td>\n      <td>upper</td>\n      <td>yes</td>\n      <td>yes</td>\n      <td>86</td>\n      <td>125</td>\n      <td>1</td>\n      <td>0</td>\n      <td>1</td>\n      <td>1</td>\n      <td>0</td>\n      <td>1</td>\n      <td>1</td>\n      <td>1</td>\n    </tr>\n    <tr>\n      <th>2</th>\n      <td>yes</td>\n      <td>36</td>\n      <td>female</td>\n      <td>more</td>\n      <td>0.289916</td>\n      <td>3.6</td>\n      <td>upper</td>\n      <td>yes</td>\n      <td>yes</td>\n      <td>76</td>\n      <td>125</td>\n      <td>1</td>\n      <td>0</td>\n      <td>1</td>\n      <td>1</td>\n      <td>0</td>\n      <td>1</td>\n      <td>1</td>\n      <td>1</td>\n    </tr>\n    <tr>\n      <th>3</th>\n      <td>yes</td>\n      <td>36</td>\n      <td>female</td>\n      <td>more</td>\n      <td>0.289916</td>\n      <td>4.4</td>\n      <td>upper</td>\n      <td>yes</td>\n      <td>yes</td>\n      <td>77</td>\n      <td>123</td>\n      <td>1</td>\n      <td>1</td>\n      <td>1</td>\n      <td>1</td>\n      <td>0</td>\n      <td>1</td>\n      <td>1</td>\n      <td>1</td>\n    </tr>\n    <tr>\n      <th>4</th>\n      <td>no</td>\n      <td>59</td>\n      <td>male</td>\n      <td>more</td>\n      <td>-0.737732</td>\n      <td>4.5</td>\n      <td>upper</td>\n      <td>yes</td>\n      <td>yes</td>\n      <td>17</td>\n      <td>20</td>\n      <td>2</td>\n      <td>0</td>\n      <td>0</td>\n      <td>0</td>\n      <td>0</td>\n      <td>1</td>\n      <td>1</td>\n      <td>1</td>\n    </tr>\n  </tbody>\n</table>\n</div>"
          },
          "metadata": {}
        }
      ],
      "execution_count": 5
    },
    {
      "cell_type": "markdown",
      "source": "get information about each variable\n",
      "metadata": {}
    },
    {
      "cell_type": "code",
      "source": "ratings_df.info()",
      "metadata": {
        "trusted": true
      },
      "outputs": [
        {
          "name": "stdout",
          "text": "<class 'pandas.core.frame.DataFrame'>\nRangeIndex: 463 entries, 0 to 462\nData columns (total 19 columns):\n #   Column           Non-Null Count  Dtype  \n---  ------           --------------  -----  \n 0   minority         463 non-null    object \n 1   age              463 non-null    int64  \n 2   gender           463 non-null    object \n 3   credits          463 non-null    object \n 4   beauty           463 non-null    float64\n 5   eval             463 non-null    float64\n 6   division         463 non-null    object \n 7   native           463 non-null    object \n 8   tenure           463 non-null    object \n 9   students         463 non-null    int64  \n 10  allstudents      463 non-null    int64  \n 11  prof             463 non-null    int64  \n 12  PrimaryLast      463 non-null    int64  \n 13  vismin           463 non-null    int64  \n 14  female           463 non-null    int64  \n 15  single_credit    463 non-null    int64  \n 16  upper_division   463 non-null    int64  \n 17  English_speaker  463 non-null    int64  \n 18  tenured_prof     463 non-null    int64  \ndtypes: float64(2), int64(11), object(6)\nmemory usage: 57.9+ KB\n",
          "output_type": "stream"
        }
      ],
      "execution_count": 6
    },
    {
      "cell_type": "markdown",
      "source": "get the number of rows and columns - prints as (number of rows, number of columns)\n",
      "metadata": {}
    },
    {
      "cell_type": "code",
      "source": "ratings_df.shape",
      "metadata": {
        "trusted": true
      },
      "outputs": [
        {
          "execution_count": 14,
          "output_type": "execute_result",
          "data": {
            "text/plain": "(463, 19)"
          },
          "metadata": {}
        }
      ],
      "execution_count": 14
    },
    {
      "cell_type": "markdown",
      "source": "## Lab Exercises\n",
      "metadata": {}
    },
    {
      "cell_type": "markdown",
      "source": "### Can you identify whether the teachers' Rating data is a time series or cross-sectional?\n",
      "metadata": {}
    },
    {
      "cell_type": "markdown",
      "source": "Print out the first ten rows of the data\n\n1.  Does it have a date or time variable? - No - it is not a time series dataset\n2.  Does it observe more than one teacher being rated? - Yes - it is cross-sectional dataset\n\n> The dataset is a Cross-sectional\n",
      "metadata": {}
    },
    {
      "cell_type": "code",
      "source": "ratings_df.head(10)",
      "metadata": {
        "trusted": true
      },
      "outputs": [
        {
          "execution_count": 15,
          "output_type": "execute_result",
          "data": {
            "text/plain": "  minority  age  gender credits    beauty  eval division native tenure  \\\n0      yes   36  female    more  0.289916   4.3    upper    yes    yes   \n1      yes   36  female    more  0.289916   3.7    upper    yes    yes   \n2      yes   36  female    more  0.289916   3.6    upper    yes    yes   \n3      yes   36  female    more  0.289916   4.4    upper    yes    yes   \n4       no   59    male    more -0.737732   4.5    upper    yes    yes   \n5       no   59    male    more -0.737732   4.0    upper    yes    yes   \n6       no   59    male    more -0.737732   2.1    upper    yes    yes   \n7       no   51    male    more -0.571984   3.7    upper    yes    yes   \n8       no   51    male    more -0.571984   3.2    upper    yes    yes   \n9       no   40  female    more -0.677963   4.3    upper    yes    yes   \n\n   students  allstudents  prof  PrimaryLast  vismin  female  single_credit  \\\n0        24           43     1            0       1       1              0   \n1        86          125     1            0       1       1              0   \n2        76          125     1            0       1       1              0   \n3        77          123     1            1       1       1              0   \n4        17           20     2            0       0       0              0   \n5        35           40     2            0       0       0              0   \n6        39           44     2            1       0       0              0   \n7        55           55     3            0       0       0              0   \n8       111          195     3            1       0       0              0   \n9        40           46     4            0       0       1              0   \n\n   upper_division  English_speaker  tenured_prof  \n0               1                1             1  \n1               1                1             1  \n2               1                1             1  \n3               1                1             1  \n4               1                1             1  \n5               1                1             1  \n6               1                1             1  \n7               1                1             1  \n8               1                1             1  \n9               1                1             1  ",
            "text/html": "<div>\n<style scoped>\n    .dataframe tbody tr th:only-of-type {\n        vertical-align: middle;\n    }\n\n    .dataframe tbody tr th {\n        vertical-align: top;\n    }\n\n    .dataframe thead th {\n        text-align: right;\n    }\n</style>\n<table border=\"1\" class=\"dataframe\">\n  <thead>\n    <tr style=\"text-align: right;\">\n      <th></th>\n      <th>minority</th>\n      <th>age</th>\n      <th>gender</th>\n      <th>credits</th>\n      <th>beauty</th>\n      <th>eval</th>\n      <th>division</th>\n      <th>native</th>\n      <th>tenure</th>\n      <th>students</th>\n      <th>allstudents</th>\n      <th>prof</th>\n      <th>PrimaryLast</th>\n      <th>vismin</th>\n      <th>female</th>\n      <th>single_credit</th>\n      <th>upper_division</th>\n      <th>English_speaker</th>\n      <th>tenured_prof</th>\n    </tr>\n  </thead>\n  <tbody>\n    <tr>\n      <th>0</th>\n      <td>yes</td>\n      <td>36</td>\n      <td>female</td>\n      <td>more</td>\n      <td>0.289916</td>\n      <td>4.3</td>\n      <td>upper</td>\n      <td>yes</td>\n      <td>yes</td>\n      <td>24</td>\n      <td>43</td>\n      <td>1</td>\n      <td>0</td>\n      <td>1</td>\n      <td>1</td>\n      <td>0</td>\n      <td>1</td>\n      <td>1</td>\n      <td>1</td>\n    </tr>\n    <tr>\n      <th>1</th>\n      <td>yes</td>\n      <td>36</td>\n      <td>female</td>\n      <td>more</td>\n      <td>0.289916</td>\n      <td>3.7</td>\n      <td>upper</td>\n      <td>yes</td>\n      <td>yes</td>\n      <td>86</td>\n      <td>125</td>\n      <td>1</td>\n      <td>0</td>\n      <td>1</td>\n      <td>1</td>\n      <td>0</td>\n      <td>1</td>\n      <td>1</td>\n      <td>1</td>\n    </tr>\n    <tr>\n      <th>2</th>\n      <td>yes</td>\n      <td>36</td>\n      <td>female</td>\n      <td>more</td>\n      <td>0.289916</td>\n      <td>3.6</td>\n      <td>upper</td>\n      <td>yes</td>\n      <td>yes</td>\n      <td>76</td>\n      <td>125</td>\n      <td>1</td>\n      <td>0</td>\n      <td>1</td>\n      <td>1</td>\n      <td>0</td>\n      <td>1</td>\n      <td>1</td>\n      <td>1</td>\n    </tr>\n    <tr>\n      <th>3</th>\n      <td>yes</td>\n      <td>36</td>\n      <td>female</td>\n      <td>more</td>\n      <td>0.289916</td>\n      <td>4.4</td>\n      <td>upper</td>\n      <td>yes</td>\n      <td>yes</td>\n      <td>77</td>\n      <td>123</td>\n      <td>1</td>\n      <td>1</td>\n      <td>1</td>\n      <td>1</td>\n      <td>0</td>\n      <td>1</td>\n      <td>1</td>\n      <td>1</td>\n    </tr>\n    <tr>\n      <th>4</th>\n      <td>no</td>\n      <td>59</td>\n      <td>male</td>\n      <td>more</td>\n      <td>-0.737732</td>\n      <td>4.5</td>\n      <td>upper</td>\n      <td>yes</td>\n      <td>yes</td>\n      <td>17</td>\n      <td>20</td>\n      <td>2</td>\n      <td>0</td>\n      <td>0</td>\n      <td>0</td>\n      <td>0</td>\n      <td>1</td>\n      <td>1</td>\n      <td>1</td>\n    </tr>\n    <tr>\n      <th>5</th>\n      <td>no</td>\n      <td>59</td>\n      <td>male</td>\n      <td>more</td>\n      <td>-0.737732</td>\n      <td>4.0</td>\n      <td>upper</td>\n      <td>yes</td>\n      <td>yes</td>\n      <td>35</td>\n      <td>40</td>\n      <td>2</td>\n      <td>0</td>\n      <td>0</td>\n      <td>0</td>\n      <td>0</td>\n      <td>1</td>\n      <td>1</td>\n      <td>1</td>\n    </tr>\n    <tr>\n      <th>6</th>\n      <td>no</td>\n      <td>59</td>\n      <td>male</td>\n      <td>more</td>\n      <td>-0.737732</td>\n      <td>2.1</td>\n      <td>upper</td>\n      <td>yes</td>\n      <td>yes</td>\n      <td>39</td>\n      <td>44</td>\n      <td>2</td>\n      <td>1</td>\n      <td>0</td>\n      <td>0</td>\n      <td>0</td>\n      <td>1</td>\n      <td>1</td>\n      <td>1</td>\n    </tr>\n    <tr>\n      <th>7</th>\n      <td>no</td>\n      <td>51</td>\n      <td>male</td>\n      <td>more</td>\n      <td>-0.571984</td>\n      <td>3.7</td>\n      <td>upper</td>\n      <td>yes</td>\n      <td>yes</td>\n      <td>55</td>\n      <td>55</td>\n      <td>3</td>\n      <td>0</td>\n      <td>0</td>\n      <td>0</td>\n      <td>0</td>\n      <td>1</td>\n      <td>1</td>\n      <td>1</td>\n    </tr>\n    <tr>\n      <th>8</th>\n      <td>no</td>\n      <td>51</td>\n      <td>male</td>\n      <td>more</td>\n      <td>-0.571984</td>\n      <td>3.2</td>\n      <td>upper</td>\n      <td>yes</td>\n      <td>yes</td>\n      <td>111</td>\n      <td>195</td>\n      <td>3</td>\n      <td>1</td>\n      <td>0</td>\n      <td>0</td>\n      <td>0</td>\n      <td>1</td>\n      <td>1</td>\n      <td>1</td>\n    </tr>\n    <tr>\n      <th>9</th>\n      <td>no</td>\n      <td>40</td>\n      <td>female</td>\n      <td>more</td>\n      <td>-0.677963</td>\n      <td>4.3</td>\n      <td>upper</td>\n      <td>yes</td>\n      <td>yes</td>\n      <td>40</td>\n      <td>46</td>\n      <td>4</td>\n      <td>0</td>\n      <td>0</td>\n      <td>1</td>\n      <td>0</td>\n      <td>1</td>\n      <td>1</td>\n      <td>1</td>\n    </tr>\n  </tbody>\n</table>\n</div>"
          },
          "metadata": {}
        }
      ],
      "execution_count": 15
    },
    {
      "cell_type": "markdown",
      "source": "### Find the mean, median, minimum, and maximum values for students\n",
      "metadata": {}
    },
    {
      "cell_type": "markdown",
      "source": "Find Mean value for students\n",
      "metadata": {}
    },
    {
      "cell_type": "code",
      "source": "ratings_df['students'].mean()",
      "metadata": {
        "trusted": true
      },
      "outputs": [
        {
          "execution_count": 16,
          "output_type": "execute_result",
          "data": {
            "text/plain": "36.62419006479482"
          },
          "metadata": {}
        }
      ],
      "execution_count": 16
    },
    {
      "cell_type": "markdown",
      "source": "Find the Median value for students\n",
      "metadata": {}
    },
    {
      "cell_type": "code",
      "source": "ratings_df['students'].median()",
      "metadata": {
        "trusted": true
      },
      "outputs": [
        {
          "execution_count": 17,
          "output_type": "execute_result",
          "data": {
            "text/plain": "23.0"
          },
          "metadata": {}
        }
      ],
      "execution_count": 17
    },
    {
      "cell_type": "markdown",
      "source": "Find the Minimum value for students\n",
      "metadata": {}
    },
    {
      "cell_type": "code",
      "source": "ratings_df['students'].min()",
      "metadata": {
        "trusted": true
      },
      "outputs": [
        {
          "execution_count": 18,
          "output_type": "execute_result",
          "data": {
            "text/plain": "5"
          },
          "metadata": {}
        }
      ],
      "execution_count": 18
    },
    {
      "cell_type": "markdown",
      "source": "Find the Maximum value for students\n",
      "metadata": {}
    },
    {
      "cell_type": "code",
      "source": "ratings_df['students'].max()",
      "metadata": {
        "trusted": true
      },
      "outputs": [
        {
          "execution_count": 19,
          "output_type": "execute_result",
          "data": {
            "text/plain": "380"
          },
          "metadata": {}
        }
      ],
      "execution_count": 19
    },
    {
      "cell_type": "markdown",
      "source": "### Produce a descriptive statistics table\n",
      "metadata": {}
    },
    {
      "cell_type": "code",
      "source": "ratings_df.describe()",
      "metadata": {
        "trusted": true
      },
      "outputs": [
        {
          "execution_count": 20,
          "output_type": "execute_result",
          "data": {
            "text/plain": "              age        beauty        eval    students  allstudents  \\\ncount  463.000000  4.630000e+02  463.000000  463.000000   463.000000   \nmean    48.365011  6.271140e-08    3.998272   36.624190    55.177106   \nstd      9.802742  7.886477e-01    0.554866   45.018481    75.072800   \nmin     29.000000 -1.450494e+00    2.100000    5.000000     8.000000   \n25%     42.000000 -6.562689e-01    3.600000   15.000000    19.000000   \n50%     48.000000 -6.801430e-02    4.000000   23.000000    29.000000   \n75%     57.000000  5.456024e-01    4.400000   40.000000    60.000000   \nmax     73.000000  1.970023e+00    5.000000  380.000000   581.000000   \n\n             prof  PrimaryLast      vismin      female  single_credit  \\\ncount  463.000000   463.000000  463.000000  463.000000     463.000000   \nmean    45.434125     0.203024    0.138229    0.421166       0.058315   \nstd     27.508902     0.402685    0.345513    0.494280       0.234592   \nmin      1.000000     0.000000    0.000000    0.000000       0.000000   \n25%     20.000000     0.000000    0.000000    0.000000       0.000000   \n50%     44.000000     0.000000    0.000000    0.000000       0.000000   \n75%     70.500000     0.000000    0.000000    1.000000       0.000000   \nmax     94.000000     1.000000    1.000000    1.000000       1.000000   \n\n       upper_division  English_speaker  tenured_prof  \ncount      463.000000       463.000000    463.000000  \nmean         0.660907         0.939525      0.779698  \nstd          0.473913         0.238623      0.414899  \nmin          0.000000         0.000000      0.000000  \n25%          0.000000         1.000000      1.000000  \n50%          1.000000         1.000000      1.000000  \n75%          1.000000         1.000000      1.000000  \nmax          1.000000         1.000000      1.000000  ",
            "text/html": "<div>\n<style scoped>\n    .dataframe tbody tr th:only-of-type {\n        vertical-align: middle;\n    }\n\n    .dataframe tbody tr th {\n        vertical-align: top;\n    }\n\n    .dataframe thead th {\n        text-align: right;\n    }\n</style>\n<table border=\"1\" class=\"dataframe\">\n  <thead>\n    <tr style=\"text-align: right;\">\n      <th></th>\n      <th>age</th>\n      <th>beauty</th>\n      <th>eval</th>\n      <th>students</th>\n      <th>allstudents</th>\n      <th>prof</th>\n      <th>PrimaryLast</th>\n      <th>vismin</th>\n      <th>female</th>\n      <th>single_credit</th>\n      <th>upper_division</th>\n      <th>English_speaker</th>\n      <th>tenured_prof</th>\n    </tr>\n  </thead>\n  <tbody>\n    <tr>\n      <th>count</th>\n      <td>463.000000</td>\n      <td>4.630000e+02</td>\n      <td>463.000000</td>\n      <td>463.000000</td>\n      <td>463.000000</td>\n      <td>463.000000</td>\n      <td>463.000000</td>\n      <td>463.000000</td>\n      <td>463.000000</td>\n      <td>463.000000</td>\n      <td>463.000000</td>\n      <td>463.000000</td>\n      <td>463.000000</td>\n    </tr>\n    <tr>\n      <th>mean</th>\n      <td>48.365011</td>\n      <td>6.271140e-08</td>\n      <td>3.998272</td>\n      <td>36.624190</td>\n      <td>55.177106</td>\n      <td>45.434125</td>\n      <td>0.203024</td>\n      <td>0.138229</td>\n      <td>0.421166</td>\n      <td>0.058315</td>\n      <td>0.660907</td>\n      <td>0.939525</td>\n      <td>0.779698</td>\n    </tr>\n    <tr>\n      <th>std</th>\n      <td>9.802742</td>\n      <td>7.886477e-01</td>\n      <td>0.554866</td>\n      <td>45.018481</td>\n      <td>75.072800</td>\n      <td>27.508902</td>\n      <td>0.402685</td>\n      <td>0.345513</td>\n      <td>0.494280</td>\n      <td>0.234592</td>\n      <td>0.473913</td>\n      <td>0.238623</td>\n      <td>0.414899</td>\n    </tr>\n    <tr>\n      <th>min</th>\n      <td>29.000000</td>\n      <td>-1.450494e+00</td>\n      <td>2.100000</td>\n      <td>5.000000</td>\n      <td>8.000000</td>\n      <td>1.000000</td>\n      <td>0.000000</td>\n      <td>0.000000</td>\n      <td>0.000000</td>\n      <td>0.000000</td>\n      <td>0.000000</td>\n      <td>0.000000</td>\n      <td>0.000000</td>\n    </tr>\n    <tr>\n      <th>25%</th>\n      <td>42.000000</td>\n      <td>-6.562689e-01</td>\n      <td>3.600000</td>\n      <td>15.000000</td>\n      <td>19.000000</td>\n      <td>20.000000</td>\n      <td>0.000000</td>\n      <td>0.000000</td>\n      <td>0.000000</td>\n      <td>0.000000</td>\n      <td>0.000000</td>\n      <td>1.000000</td>\n      <td>1.000000</td>\n    </tr>\n    <tr>\n      <th>50%</th>\n      <td>48.000000</td>\n      <td>-6.801430e-02</td>\n      <td>4.000000</td>\n      <td>23.000000</td>\n      <td>29.000000</td>\n      <td>44.000000</td>\n      <td>0.000000</td>\n      <td>0.000000</td>\n      <td>0.000000</td>\n      <td>0.000000</td>\n      <td>1.000000</td>\n      <td>1.000000</td>\n      <td>1.000000</td>\n    </tr>\n    <tr>\n      <th>75%</th>\n      <td>57.000000</td>\n      <td>5.456024e-01</td>\n      <td>4.400000</td>\n      <td>40.000000</td>\n      <td>60.000000</td>\n      <td>70.500000</td>\n      <td>0.000000</td>\n      <td>0.000000</td>\n      <td>1.000000</td>\n      <td>0.000000</td>\n      <td>1.000000</td>\n      <td>1.000000</td>\n      <td>1.000000</td>\n    </tr>\n    <tr>\n      <th>max</th>\n      <td>73.000000</td>\n      <td>1.970023e+00</td>\n      <td>5.000000</td>\n      <td>380.000000</td>\n      <td>581.000000</td>\n      <td>94.000000</td>\n      <td>1.000000</td>\n      <td>1.000000</td>\n      <td>1.000000</td>\n      <td>1.000000</td>\n      <td>1.000000</td>\n      <td>1.000000</td>\n      <td>1.000000</td>\n    </tr>\n  </tbody>\n</table>\n</div>"
          },
          "metadata": {}
        }
      ],
      "execution_count": 20
    },
    {
      "cell_type": "markdown",
      "source": "### Create a histogram of the beauty variable and briefly comment on the distribution of data\n",
      "metadata": {}
    },
    {
      "cell_type": "markdown",
      "source": "using the <code>matplotlib</code> library, create a histogram\n",
      "metadata": {}
    },
    {
      "cell_type": "code",
      "source": "pyplot.hist(ratings_df['beauty'])",
      "metadata": {
        "trusted": true
      },
      "outputs": [
        {
          "execution_count": 21,
          "output_type": "execute_result",
          "data": {
            "text/plain": "(array([16., 51., 94., 66., 94., 42., 29., 40., 11., 20.]),\n array([-1.45049405, -1.10844234, -0.76639063, -0.42433892, -0.08228722,\n         0.25976449,  0.6018162 ,  0.94386791,  1.28591962,  1.62797133,\n         1.97002304]),\n <BarContainer object of 10 artists>)"
          },
          "metadata": {}
        },
        {
          "output_type": "display_data",
          "data": {
            "text/plain": "<Figure size 640x480 with 1 Axes>",
            "image/png": "[encoded data removed]"
          },
          "metadata": {}
        }
      ],
      "execution_count": 21
    },
    {
      "cell_type": "markdown",
      "source": "here are few conclusions from the histogram\nmost of the data for beauty is around the -0.5 and 0\nthe distribution is skewed to the right\ntherefore looking at the data we can say the mean is close to 0\n",
      "metadata": {}
    },
    {
      "cell_type": "markdown",
      "source": "### Does average beauty score differ by gender? Produce the means and standard deviations for both male and female instructors.\n",
      "metadata": {}
    },
    {
      "cell_type": "markdown",
      "source": "Use a group by gender to view the mean scores of the beauty we can say that beauty scores differ by gender as the mean beauty score for women is higher than men\n",
      "metadata": {}
    },
    {
      "cell_type": "code",
      "source": "ratings_df.groupby('gender').agg({'beauty':['mean', 'std', 'var']}).reset_index()",
      "metadata": {
        "trusted": true
      },
      "outputs": [
        {
          "execution_count": 22,
          "output_type": "execute_result",
          "data": {
            "text/plain": "   gender    beauty                   \n               mean      std       var\n0  female  0.116109  0.81781  0.668813\n1    male -0.084482  0.75713  0.573246",
            "text/html": "<div>\n<style scoped>\n    .dataframe tbody tr th:only-of-type {\n        vertical-align: middle;\n    }\n\n    .dataframe tbody tr th {\n        vertical-align: top;\n    }\n\n    .dataframe thead tr th {\n        text-align: left;\n    }\n</style>\n<table border=\"1\" class=\"dataframe\">\n  <thead>\n    <tr>\n      <th></th>\n      <th>gender</th>\n      <th colspan=\"3\" halign=\"left\">beauty</th>\n    </tr>\n    <tr>\n      <th></th>\n      <th></th>\n      <th>mean</th>\n      <th>std</th>\n      <th>var</th>\n    </tr>\n  </thead>\n  <tbody>\n    <tr>\n      <th>0</th>\n      <td>female</td>\n      <td>0.116109</td>\n      <td>0.81781</td>\n      <td>0.668813</td>\n    </tr>\n    <tr>\n      <th>1</th>\n      <td>male</td>\n      <td>-0.084482</td>\n      <td>0.75713</td>\n      <td>0.573246</td>\n    </tr>\n  </tbody>\n</table>\n</div>"
          },
          "metadata": {}
        }
      ],
      "execution_count": 22
    },
    {
      "cell_type": "markdown",
      "source": "### Calculate the percentage of males and females that are tenured professors. Will you say that tenure status differ by gender?\n",
      "metadata": {}
    },
    {
      "cell_type": "markdown",
      "source": "First groupby to get the total sum\n",
      "metadata": {}
    },
    {
      "cell_type": "code",
      "source": "tenure_count = ratings_df[ratings_df.tenure == 'yes'].groupby('gender').agg({'tenure': 'count'}).reset_index()\ntenure_count",
      "metadata": {
        "trusted": true
      },
      "outputs": [
        {
          "execution_count": 28,
          "output_type": "execute_result",
          "data": {
            "text/plain": "   gender  tenure\n0  female     145\n1    male     216",
            "text/html": "<div>\n<style scoped>\n    .dataframe tbody tr th:only-of-type {\n        vertical-align: middle;\n    }\n\n    .dataframe tbody tr th {\n        vertical-align: top;\n    }\n\n    .dataframe thead th {\n        text-align: right;\n    }\n</style>\n<table border=\"1\" class=\"dataframe\">\n  <thead>\n    <tr style=\"text-align: right;\">\n      <th></th>\n      <th>gender</th>\n      <th>tenure</th>\n    </tr>\n  </thead>\n  <tbody>\n    <tr>\n      <th>0</th>\n      <td>female</td>\n      <td>145</td>\n    </tr>\n    <tr>\n      <th>1</th>\n      <td>male</td>\n      <td>216</td>\n    </tr>\n  </tbody>\n</table>\n</div>"
          },
          "metadata": {}
        }
      ],
      "execution_count": 28
    },
    {
      "cell_type": "markdown",
      "source": "Find the percentage\n",
      "metadata": {}
    },
    {
      "cell_type": "code",
      "source": "tenure_count['percentage'] = 100 * tenure_count.tenure/tenure_count.tenure.sum()\ntenure_count",
      "metadata": {
        "trusted": true
      },
      "outputs": [
        {
          "execution_count": 29,
          "output_type": "execute_result",
          "data": {
            "text/plain": "   gender  tenure  percentage\n0  female     145   40.166205\n1    male     216   59.833795",
            "text/html": "<div>\n<style scoped>\n    .dataframe tbody tr th:only-of-type {\n        vertical-align: middle;\n    }\n\n    .dataframe tbody tr th {\n        vertical-align: top;\n    }\n\n    .dataframe thead th {\n        text-align: right;\n    }\n</style>\n<table border=\"1\" class=\"dataframe\">\n  <thead>\n    <tr style=\"text-align: right;\">\n      <th></th>\n      <th>gender</th>\n      <th>tenure</th>\n      <th>percentage</th>\n    </tr>\n  </thead>\n  <tbody>\n    <tr>\n      <th>0</th>\n      <td>female</td>\n      <td>145</td>\n      <td>40.166205</td>\n    </tr>\n    <tr>\n      <th>1</th>\n      <td>male</td>\n      <td>216</td>\n      <td>59.833795</td>\n    </tr>\n  </tbody>\n</table>\n</div>"
          },
          "metadata": {}
        }
      ],
      "execution_count": 29
    },
    {
      "cell_type": "markdown",
      "source": "## Practice Questions\n",
      "metadata": {}
    },
    {
      "cell_type": "markdown",
      "source": "### Question 1: Calculate the percentage of visible minorities are tenure professors. Will you say that tenure status differed if teacher was a visible minority?\n",
      "metadata": {}
    },
    {
      "cell_type": "code",
      "source": "## insert code here\ntenureM_count = ratings_df[ratings_df.tenure == 'yes'].groupby('minority').agg({'tenure': 'count'}).reset_index()\ntenureM_count['percentage'] = 100 * tenureM_count.tenure/tenureM_count.tenure.sum()\ntenureM_count",
      "metadata": {
        "trusted": true
      },
      "outputs": [
        {
          "execution_count": 31,
          "output_type": "execute_result",
          "data": {
            "text/plain": "  minority  tenure  percentage\n0       no     307   85.041551\n1      yes      54   14.958449",
            "text/html": "<div>\n<style scoped>\n    .dataframe tbody tr th:only-of-type {\n        vertical-align: middle;\n    }\n\n    .dataframe tbody tr th {\n        vertical-align: top;\n    }\n\n    .dataframe thead th {\n        text-align: right;\n    }\n</style>\n<table border=\"1\" class=\"dataframe\">\n  <thead>\n    <tr style=\"text-align: right;\">\n      <th></th>\n      <th>minority</th>\n      <th>tenure</th>\n      <th>percentage</th>\n    </tr>\n  </thead>\n  <tbody>\n    <tr>\n      <th>0</th>\n      <td>no</td>\n      <td>307</td>\n      <td>85.041551</td>\n    </tr>\n    <tr>\n      <th>1</th>\n      <td>yes</td>\n      <td>54</td>\n      <td>14.958449</td>\n    </tr>\n  </tbody>\n</table>\n</div>"
          },
          "metadata": {}
        }
      ],
      "execution_count": 31
    },
    {
      "cell_type": "markdown",
      "source": "Double-click **here** for the solution.\n\n<!-- The answer is below:\n##First filter for the tenured Professors\nratings_df=ratings_df[ratings_df['tenure']=='yes']\n### we can use a groupby function for this\n## first groupby to get the total sum\ntenure_count = ratings_df.groupby('minority').agg({'tenure': 'count'}).reset_index()\n# Find the percentage\ntenure_count['percentage'] = 100 * tenure_count.tenure/tenure_count.tenure.sum()\n##print to see\ntenure_count\n-->\n",
      "metadata": {}
    },
    {
      "cell_type": "markdown",
      "source": "### Question 2: Does average age differ by tenure? Produce the means and standard deviations for both tenured and untenured professors.\n",
      "metadata": {}
    },
    {
      "cell_type": "code",
      "source": "## insert code here\nratings_df.groupby('tenure').agg({'age':['mean', 'std']}).reset_index()",
      "metadata": {
        "trusted": true
      },
      "outputs": [
        {
          "execution_count": 32,
          "output_type": "execute_result",
          "data": {
            "text/plain": "  tenure        age           \n               mean        std\n0     no  50.186275   6.946372\n1    yes  47.850416  10.420056",
            "text/html": "<div>\n<style scoped>\n    .dataframe tbody tr th:only-of-type {\n        vertical-align: middle;\n    }\n\n    .dataframe tbody tr th {\n        vertical-align: top;\n    }\n\n    .dataframe thead tr th {\n        text-align: left;\n    }\n</style>\n<table border=\"1\" class=\"dataframe\">\n  <thead>\n    <tr>\n      <th></th>\n      <th>tenure</th>\n      <th colspan=\"2\" halign=\"left\">age</th>\n    </tr>\n    <tr>\n      <th></th>\n      <th></th>\n      <th>mean</th>\n      <th>std</th>\n    </tr>\n  </thead>\n  <tbody>\n    <tr>\n      <th>0</th>\n      <td>no</td>\n      <td>50.186275</td>\n      <td>6.946372</td>\n    </tr>\n    <tr>\n      <th>1</th>\n      <td>yes</td>\n      <td>47.850416</td>\n      <td>10.420056</td>\n    </tr>\n  </tbody>\n</table>\n</div>"
          },
          "metadata": {}
        }
      ],
      "execution_count": 32
    },
    {
      "cell_type": "markdown",
      "source": "Double-click **here** for the solution.\n\n<!-- The answer is below:\n## group by tenureship and find the mean and standard deviation for each group\nratings_df.groupby('tenure').agg({'age':['mean', 'std']}).reset_index()\n-->\n",
      "metadata": {
        "jupyter": {
          "source_hidden": true
        }
      }
    },
    {
      "cell_type": "markdown",
      "source": "### Question 3: Create a histogram for the age variable.\n",
      "metadata": {}
    },
    {
      "cell_type": "code",
      "source": "## insert code here\npyplot.hist(ratings_df['age'])",
      "metadata": {
        "trusted": true
      },
      "outputs": [
        {
          "execution_count": 33,
          "output_type": "execute_result",
          "data": {
            "text/plain": "(array([41., 37., 58., 48., 75., 74., 53., 69.,  0.,  8.]),\n array([29. , 33.4, 37.8, 42.2, 46.6, 51. , 55.4, 59.8, 64.2, 68.6, 73. ]),\n <BarContainer object of 10 artists>)"
          },
          "metadata": {}
        },
        {
          "output_type": "display_data",
          "data": {
            "text/plain": "<Figure size 640x480 with 1 Axes>",
            "image/png": "[encoded data removed]"
          },
          "metadata": {}
        }
      ],
      "execution_count": 33
    },
    {
      "cell_type": "markdown",
      "source": "Double-click **here** for the solution.\n\n<!-- The answer is below:\npyplot.hist(ratings_df['age'])\n-->\n",
      "metadata": {}
    },
    {
      "cell_type": "markdown",
      "source": "### Question 4: Create a bar plot for the gender variable.\n",
      "metadata": {}
    },
    {
      "cell_type": "code",
      "source": "## insert code here\npyplot.bar(ratings_df.gender.unique(), ratings_df.gender.value_counts(),color=['pink','blue'])",
      "metadata": {
        "trusted": true
      },
      "outputs": [
        {
          "execution_count": 37,
          "output_type": "execute_result",
          "data": {
            "text/plain": "<BarContainer object of 2 artists>"
          },
          "metadata": {}
        },
        {
          "output_type": "display_data",
          "data": {
            "text/plain": "<Figure size 640x480 with 1 Axes>",
            "image/png": "[encoded data removed]"
          },
          "metadata": {}
        }
      ],
      "execution_count": 37
    },
    {
      "cell_type": "markdown",
      "source": "Double-click **here** for the solution.\n\n<!-- The answer is below:\npyplot.bar(ratings_df.gender.unique(),ratings_df.gender.value_counts(),color=['pink','blue'])\npyplot.xlabel('Gender')\npyplot.ylabel('Count')\npyplot.title('Gender distribution bar plot')\n-->\n",
      "metadata": {}
    },
    {
      "cell_type": "markdown",
      "source": "> Note:Bar plot can be rendered vertically or horizontally. Try to replace **pyplot.bar** with **pyplot.barh** in the above cell and see the difference.\n",
      "metadata": {}
    },
    {
      "cell_type": "code",
      "source": "pyplot.barh(ratings_df.gender.unique(), ratings_df.gender.value_counts(),color=['pink','blue'])",
      "metadata": {
        "trusted": true
      },
      "outputs": [
        {
          "execution_count": 38,
          "output_type": "execute_result",
          "data": {
            "text/plain": "<BarContainer object of 2 artists>"
          },
          "metadata": {}
        },
        {
          "output_type": "display_data",
          "data": {
            "text/plain": "<Figure size 640x480 with 1 Axes>",
            "image/png": "[encoded data removed]"
          },
          "metadata": {}
        }
      ],
      "execution_count": 38
    },
    {
      "cell_type": "markdown",
      "source": "### Question 5: What is the Median evaluation score for tenured Professors?\n",
      "metadata": {}
    },
    {
      "cell_type": "code",
      "source": "## insert code here\n",
      "metadata": {},
      "outputs": [],
      "execution_count": null
    },
    {
      "cell_type": "markdown",
      "source": "Double-click **here** for the solution.\n\n<!-- The answer is below:\n## you can index just tenured professors and find their median evaluation scores\nratings_df[ratings_df['tenure'] == 'yes']['eval'].median()\n-->\n",
      "metadata": {}
    },
    {
      "cell_type": "markdown",
      "source": "## Authors\n\n[Pratiksha Verma](https://www.linkedin.com/in/pratiksha-verma-6487561b1/)\n\n## Change Log\n\n| Date (YYYY-MM-DD) | Version | Changed By      | Change Description      |\n| ----------------- | ------- | -------------   | ----------------------- |\n| 2022-11-09        | 1.0     | Pratiksha Verma | Converted initial version to Jupyterlite|\n\n\n<hr>\n\n## <h3 align=\"center\"> IBM Corporation 2022. All rights reserved. <h3/>\n",
      "metadata": {}
    }
  ]
}
